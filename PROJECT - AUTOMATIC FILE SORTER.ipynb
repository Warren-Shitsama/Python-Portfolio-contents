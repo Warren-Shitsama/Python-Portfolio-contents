{
 "cells": [
  {
   "cell_type": "markdown",
   "id": "9d922482-926b-4a55-800d-1fe41824154d",
   "metadata": {},
   "source": [
    "# Automatic File sorter"
   ]
  },
  {
   "cell_type": "code",
   "execution_count": 1,
   "id": "5fb2f9e5-bf0f-4492-aed2-dfb6aeb94929",
   "metadata": {},
   "outputs": [],
   "source": [
    "import os, shutil"
   ]
  },
  {
   "cell_type": "code",
   "execution_count": 13,
   "id": "d2e8c78d-1fb1-4d81-a6d9-580d1b80fc2b",
   "metadata": {},
   "outputs": [],
   "source": [
    "path = r\"C:/Users/user/Downloads/PROJECT - AUTOMATIC FILE SORTER/\""
   ]
  },
  {
   "cell_type": "code",
   "execution_count": 14,
   "id": "7deff397-687d-4a45-8c6d-f396b367f56f",
   "metadata": {},
   "outputs": [],
   "source": [
    "file_name = os.listdir(path)"
   ]
  },
  {
   "cell_type": "code",
   "execution_count": 22,
   "id": "51ceb568-688a-4fc6-a1aa-b6b33f7b14f5",
   "metadata": {},
   "outputs": [
    {
     "data": {
      "text/plain": [
       "['A young man if useless.png',\n",
       " 'Black and Cream Flat Illustrative Drink Logo.png',\n",
       " 'Common.Side.Effects.S01E03.720p.HEVC.x265-MeGusta.WT11.mp4',\n",
       " 'countries of the world.txt',\n",
       " 'CURRICULUM VITAE - MILDRED ASHIHUNDU.docx',\n",
       " 'CV 2022 - ROBERT OCHIENG.pdf',\n",
       " 'fadhil-abhimantra-x_Df3Gb-4Ug-unsplash.jpg',\n",
       " 'FUN2.csv',\n",
       " 'Functions  in python (1).ipynb',\n",
       " 'kendal-ZrCLoDQTFUI-unsplash.jpg',\n",
       " 'PORTFOLIO 2025 - ROBERT OCHIENG_sp.pdf',\n",
       " 'START-Dashboard.xlsx',\n",
       " 'vgsales.csv']"
      ]
     },
     "execution_count": 22,
     "metadata": {},
     "output_type": "execute_result"
    }
   ],
   "source": [
    "file_name"
   ]
  },
  {
   "cell_type": "code",
   "execution_count": 27,
   "id": "cd5b721b-1fd1-47b1-ba9e-38615f6b0a05",
   "metadata": {},
   "outputs": [],
   "source": [
    "folder_names = ['movies', 'text','images', 'documents','python','pdfs', 'excels']"
   ]
  },
  {
   "cell_type": "code",
   "execution_count": 30,
   "id": "1adfaa85-98be-4ed5-b162-34851cd48046",
   "metadata": {},
   "outputs": [
    {
     "name": "stdout",
     "output_type": "stream",
     "text": [
      "C:/Users/user/Downloads/PROJECT - AUTOMATIC FILE SORTER/excels\n"
     ]
    }
   ],
   "source": [
    "for folder in range (0,7):\n",
    "    if not os.path.exists(path + folder_names[folder]):\n",
    "        print(path + folder_names[folder])\n",
    "        os.makedirs(path + folder_names[folder]);\n",
    "    "
   ]
  },
  {
   "cell_type": "code",
   "execution_count": 32,
   "id": "320465c5-e4af-49f7-bec7-9f7ff9eaec24",
   "metadata": {},
   "outputs": [],
   "source": [
    "for file in file_name:\n",
    "    if '.png' in file and not os.path.exists(path + 'images/' + file):\n",
    "        shutil.move(path + file, path + 'images/' + file)\n",
    "    elif '.jpg' in file and not os.path.exists(path + 'images/' + file):\n",
    "        shutil.move(path + file, path + 'images/' + file)\n",
    "    elif '.ipynb' in file and not os.path.exists(path + 'python/' + file):\n",
    "        shutil.move(path + file, path + 'python/' + file)\n",
    "    elif '.mp4' in file and not os.path.exists(path + 'movies/' + file):\n",
    "        shutil.move(path + file, path + 'movies/' + file)\n",
    "    elif '.pdf' in file and not os.path.exists(path + 'pdfs/' + file):\n",
    "        shutil.move(path + file, path + 'pdfs/' + file)\n",
    "    elif '.xlsx' in file and not os.path.exists(path + 'excels/' + file):\n",
    "        shutil.move(path + file, path + 'excels/' + file)\n",
    "    elif 'csv' in file and not os.path.exists(path + 'excels/' + file):\n",
    "        shutil.move(path + file, path + 'excels/' + file)\n",
    "    elif '.txt' in file and not os.path.exists(path + 'text/' + file):\n",
    "        shutil.move(path + file, path + 'text/' + file)\n",
    "    elif '.docx' in file and in os.path.exists(path + 'documents/' + file):\n",
    "        shutil.move(path + file, path + )\n",
    "    "
   ]
  },
  {
   "cell_type": "code",
   "execution_count": null,
   "id": "b34da9f0-572f-4fe6-a23d-d32151807d4e",
   "metadata": {},
   "outputs": [],
   "source": []
  },
  {
   "cell_type": "code",
   "execution_count": null,
   "id": "616ddb83-a8b7-4eaa-b472-e1f66d831f3a",
   "metadata": {},
   "outputs": [],
   "source": []
  },
  {
   "cell_type": "code",
   "execution_count": null,
   "id": "22c1f47f-89ee-4b9b-b090-cbb1b5a77416",
   "metadata": {},
   "outputs": [],
   "source": []
  },
  {
   "cell_type": "code",
   "execution_count": null,
   "id": "fb0ae1a2-7a5c-4dfe-b30a-8e2f48f468d9",
   "metadata": {},
   "outputs": [],
   "source": []
  }
 ],
 "metadata": {
  "kernelspec": {
   "display_name": "Python 3 (ipykernel)",
   "language": "python",
   "name": "python3"
  },
  "language_info": {
   "codemirror_mode": {
    "name": "ipython",
    "version": 3
   },
   "file_extension": ".py",
   "mimetype": "text/x-python",
   "name": "python",
   "nbconvert_exporter": "python",
   "pygments_lexer": "ipython3",
   "version": "3.13.2"
  }
 },
 "nbformat": 4,
 "nbformat_minor": 5
}
