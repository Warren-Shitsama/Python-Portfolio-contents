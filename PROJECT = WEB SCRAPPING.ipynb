{
 "cells": [
  {
   "cell_type": "code",
   "execution_count": 19,
   "id": "a093950a-e6fd-408c-b2c4-42f6d1ca83b9",
   "metadata": {},
   "outputs": [
    {
     "name": "stdout",
     "output_type": "stream",
     "text": [
      "                                            \n",
      "0  1   Nigeria  237,527,782   Western Africa\n",
      "1  2  Ethiopia  135,472,051   Eastern Africa\n",
      "2  3     Egypt  118,365,995  Northern Africa\n",
      "3  4  DR Congo  112,832,473    Middle Africa\n",
      "4  5  Tanzania   70,545,865   Eastern Africa\n"
     ]
    }
   ],
   "source": [
    "import requests\n",
    "from bs4 import BeautifulSoup\n",
    "import pandas as pd\n",
    "\n",
    "def scrape_table(url):\n",
    "    headers = {'User-Agent': 'Mozilla/5.0'}\n",
    "    response = requests.get(url, headers=headers)\n",
    "    if response.status_code != 200:\n",
    "        return f\"Failed: {response.status_code}\"\n",
    "    \n",
    "    soup = BeautifulSoup(response.content, 'html.parser')\n",
    "    table = soup.find('table')\n",
    "    if not table:\n",
    "        return \"No table found\"\n",
    "    \n",
    "    data = []\n",
    "    rows = table.find_all('tr')\n",
    "    for row in rows:\n",
    "        cols = row.find_all('td')\n",
    "        row_data = [col.text.strip() for col in cols]\n",
    "        data.append(row_data)\n",
    "    \n",
    "    max_cols = max(len(row) for row in data)\n",
    "    data = [row + [''] * (max_cols - len(row)) for row in data]\n",
    "    df = pd.DataFrame(data[1:], columns=data[0])\n",
    "    df.to_csv(r'C:\\Users\\user\\Documents\\Microsoft works\\africa.csv', index=False)\n",
    "    return df\n",
    "\n",
    "# Test it\n",
    "url = \"https://www.worldometers.info/geography/how-many-countries-in-africa/\"\n",
    "result = scrape_table(url)\n",
    "print(result.head())"
   ]
  },
  {
   "cell_type": "code",
   "execution_count": null,
   "id": "e5cf3432-636f-48a6-82a9-70b9cc869f25",
   "metadata": {},
   "outputs": [],
   "source": []
  }
 ],
 "metadata": {
  "kernelspec": {
   "display_name": "Python 3 (ipykernel)",
   "language": "python",
   "name": "python3"
  },
  "language_info": {
   "codemirror_mode": {
    "name": "ipython",
    "version": 3
   },
   "file_extension": ".py",
   "mimetype": "text/x-python",
   "name": "python",
   "nbconvert_exporter": "python",
   "pygments_lexer": "ipython3",
   "version": "3.13.2"
  }
 },
 "nbformat": 4,
 "nbformat_minor": 5
}
