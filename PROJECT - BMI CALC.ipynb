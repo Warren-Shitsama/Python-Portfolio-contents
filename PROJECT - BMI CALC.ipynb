{
 "cells": [
  {
   "cell_type": "markdown",
   "id": "67a0602a-964e-48c0-bc83-5ac020550c0e",
   "metadata": {},
   "source": [
    "# BMI CALCULATOR"
   ]
  },
  {
   "cell_type": "code",
   "execution_count": 6,
   "id": "c45fdaeb-3ab4-4255-90de-3a835544ac8d",
   "metadata": {},
   "outputs": [
    {
     "name": "stdin",
     "output_type": "stream",
     "text": [
      "Enter your name here:  Warren Shitsama\n",
      "Enter your weight here:  160\n",
      "Enter your height here:  68\n"
     ]
    },
    {
     "name": "stdout",
     "output_type": "stream",
     "text": [
      "24.325259515570934\n",
      "Warren Shitsama,you're normal weight.\n"
     ]
    }
   ],
   "source": [
    "Name = input('Enter your name here: ')\n",
    "Weight = int(input('Enter your weight here: '))\n",
    "Height = int(input('Enter your height here: '))\n",
    "BMI = (Weight * 703) / (Height * Height)\n",
    "print(BMI)\n",
    "\n",
    "if BMI > 0:\n",
    "    if BMI < 18 :\n",
    "        print (Name + \",you're under weight.\")\n",
    "    elif BMI < 24.9 :\n",
    "        print (Name + \",you're normal weight.\")\n",
    "    elif BMI < 29.9 :\n",
    "        print (Name + \",you're overweight.\")\n",
    "    elif BMI < 34.9 :\n",
    "        print (Name + \",you're obese 1.\")\n",
    "    elif BMI < 40 :\n",
    "        print (Name + \",you're obese 2.\")\n",
    "    else:\n",
    "        print(Name + \",you're obese 3.\")"
   ]
  },
  {
   "cell_type": "code",
   "execution_count": null,
   "id": "e7f6581e-ede5-4c82-bbd8-b47acf098ab0",
   "metadata": {},
   "outputs": [],
   "source": []
  },
  {
   "cell_type": "code",
   "execution_count": null,
   "id": "fb3ab80f-47bd-4d93-b4dd-5ca6f11b75d1",
   "metadata": {},
   "outputs": [],
   "source": []
  },
  {
   "cell_type": "code",
   "execution_count": null,
   "id": "1057fe82-0beb-4e1d-a71b-fe26b28eeba8",
   "metadata": {},
   "outputs": [],
   "source": []
  },
  {
   "cell_type": "code",
   "execution_count": null,
   "id": "2aa6ff3e-d3b6-49ee-b314-b8bb9ced9e51",
   "metadata": {},
   "outputs": [],
   "source": []
  },
  {
   "cell_type": "code",
   "execution_count": null,
   "id": "13958a64-fcdc-4ea3-873d-1b0092a73aea",
   "metadata": {},
   "outputs": [],
   "source": []
  },
  {
   "cell_type": "code",
   "execution_count": null,
   "id": "b57d0919-6f2c-4a88-9969-ea1e8f0bd688",
   "metadata": {},
   "outputs": [],
   "source": []
  },
  {
   "cell_type": "code",
   "execution_count": null,
   "id": "e4e6196a-93f7-4f73-91eb-3992f8252bd2",
   "metadata": {},
   "outputs": [],
   "source": []
  },
  {
   "cell_type": "code",
   "execution_count": null,
   "id": "0b88b4bb-591d-454a-8ef3-422aa745836f",
   "metadata": {},
   "outputs": [],
   "source": []
  },
  {
   "cell_type": "code",
   "execution_count": null,
   "id": "9019692d-6171-414c-aa45-1cce511803e4",
   "metadata": {},
   "outputs": [],
   "source": []
  },
  {
   "cell_type": "code",
   "execution_count": null,
   "id": "5a69358e-87d8-49a2-9d08-caef533474e2",
   "metadata": {},
   "outputs": [],
   "source": []
  },
  {
   "cell_type": "code",
   "execution_count": null,
   "id": "0ff0b660-9c0e-4c65-b4fd-eadf2e4589d6",
   "metadata": {},
   "outputs": [],
   "source": []
  },
  {
   "cell_type": "code",
   "execution_count": null,
   "id": "4341dfd1-bb64-491b-ba58-62ec5c586c70",
   "metadata": {},
   "outputs": [],
   "source": []
  }
 ],
 "metadata": {
  "kernelspec": {
   "display_name": "Python 3 (ipykernel)",
   "language": "python",
   "name": "python3"
  },
  "language_info": {
   "codemirror_mode": {
    "name": "ipython",
    "version": 3
   },
   "file_extension": ".py",
   "mimetype": "text/x-python",
   "name": "python",
   "nbconvert_exporter": "python",
   "pygments_lexer": "ipython3",
   "version": "3.13.2"
  }
 },
 "nbformat": 4,
 "nbformat_minor": 5
}
